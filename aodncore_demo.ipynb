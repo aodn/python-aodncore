{
 "cells": [
  {
   "cell_type": "code",
   "execution_count": null,
   "metadata": {},
   "outputs": [
    {
     "name": "stderr",
     "output_type": "stream",
     "text": [
      "2017-09-22 12:03:04,322 WARNING [root] no logger parameter or celery task found, falling back to root logger\n",
      "2017-09-22 12:03:04,326 INFO [root] running handler -> 'MinimalHandler({'notify_list': 'None', 'harvest_type': 'talend', 'temp_dir': '/tmp/MinimalHandlerPv6J81/temp', 'collection_dir': '/tmp/MinimalHandlerPv6J81/collection', 'dest_path_function': 'None', 'products_dir': '/tmp/MinimalHandlerPv6J81/products', 'input_file': 'test_aodncore/testdata/good.nc', 'notify_on_success': 'False', 'file_checksum': 'None', 'file_collection': 'PipelineFileCollection([])', 'check_params': \"{'checks': ['cf']}\", 'notify_on_error': 'False', 'allowed_extensions': 'None', 'result': 'HandlerResult.UNKNOWN', 'harvest_params': 'None', 'error': 'None', 'relative_path_root': 'None', 'handler_start_time': '2017-09-22 12:03:04.325362', 'exclude_regexes': 'None', 'include_regexes': 'None'})'\n",
      "2017-09-22 12:03:04,363 INFO [root] _set_dest_path_function -> 'MinimalHandler.dest_path'\n",
      "2017-09-22 12:03:04,364 INFO [root] handler state transitioned to: HANDLER_INITIALISED\n",
      "2017-09-22 12:03:04,365 INFO [root] get_resolve_runner -> 'SingleFileResolveRunner'\n",
      "2017-09-22 12:03:04,410 INFO [root] file: 'good.nc' updated: {'publish_type': 'HARVEST_UPLOAD'}\n",
      "2017-09-22 12:03:04,411 INFO [root] handler state transitioned to: HANDLER_RESOLVED\n",
      "2017-09-22 12:03:04,412 INFO [root] `preprocess` not overridden by child class, skipping step\n",
      "2017-09-22 12:03:04,413 INFO [root] handler state transitioned to: HANDLER_PREPROCESSED\n",
      "2017-09-22 12:03:04,414 INFO [root] get_check_runner -> 'CheckRunnerAdapter'\n",
      "2017-09-22 12:03:04,415 INFO [root] file: 'good.nc' updated: {'check_type': 'NC_COMPLIANCE_CHECK'}\n",
      "2017-09-22 12:03:04,602 INFO [root] get_child_check_runner -> 'ComplianceCheckerCheckRunner'\n",
      "2017-09-22 12:03:04,604 INFO [root] checking compliance of '/tmp/MinimalHandlerPv6J81/collection/good.nc' against ['cf']\n",
      "2017-09-22 12:03:04,835 INFO [root] file: 'good.nc' updated: ['is_checked', 'cc_errors', 'cc_compliant', 'cc_log']\n",
      "2017-09-22 12:03:04,836 INFO [root] handler state transitioned to: HANDLER_CHECKED\n",
      "2017-09-22 12:03:04,837 INFO [root] `process` not overridden by child class, skipping step\n",
      "2017-09-22 12:03:04,843 INFO [root] handler state transitioned to: HANDLER_PROCESSED\n",
      "2017-09-22 12:03:04,845 INFO [root] get_upload_runner -> 'FileUploadRunner'\n",
      "2017-09-22 12:03:04,847 INFO [root] file: 'good.nc' updated: {'dest_path': 'IMOS/here/will/do/good.nc'}\n",
      "2017-09-22 12:03:04,849 INFO [root] get_harvester_runner -> 'TalendHarvesterRunner'\n",
      "2017-09-22 12:03:04,851 INFO [root] Dividing files into slices of 2048 files\n",
      "2017-09-22 12:03:04,853 INFO [root] All files in slice mapped correctly to a harvester\n",
      "2017-09-22 12:03:04,854 INFO [root] Adding file with destination path: IMOS/here/will/do/good.nc\n",
      "2017-09-22 12:03:04,858 INFO [root] Files to process: \n",
      "2017-09-22 12:03:04,859 INFO [root] ['IMOS/here/will/do/good.nc']\n",
      "2017-09-22 12:03:04,860 INFO [root] Executing echo --context_param paramFile=\"/usr/local/talend/jobs/param_file.conf\" --context_param base=/tmp/MinimalHandlerPv6J81/temp/talend_base_yXkFu --context_param fileList=/tmp/MinimalHandlerPv6J81/temp/talend_base_yXkFu/file_listKj_pT_.txt --context_param logDir=/tmp/probs/doesnt/exist/process\n",
      "2017-09-22 12:03:04,861 INFO [root] --- START TALEND OUTPUT ---\n",
      "--context_param paramFile=/usr/local/talend/jobs/param_file.conf --context_param base=/tmp/MinimalHandlerPv6J81/temp/talend_base_yXkFu --context_param fileList=/tmp/MinimalHandlerPv6J81/temp/talend_base_yXkFu/file_listKj_pT_.txt --context_param logDir=/tmp/probs/doesnt/exist/process\n",
      "\n",
      "--- END TALEND OUTPUT ---\n",
      "2017-09-22 12:03:04,877 INFO [root] file: 'good.nc' updated: {'is_harvested': True}\n",
      "2017-09-22 12:03:04,878 INFO [root] uploading '/tmp/MinimalHandlerPv6J81/collection/good.nc' to 'file:///tmp/temp_upload_uriyvILv0/IMOS/here/will/do/good.nc'\n",
      "2017-09-22 12:03:04,890 INFO [root] file: 'good.nc' updated: {'is_uploaded': True}\n",
      "2017-09-22 12:03:04,892 INFO [root] handler state transitioned to: HANDLER_PUBLISHED\n",
      "2017-09-22 12:03:04,892 INFO [root] `postprocess` not overridden by child class, skipping step\n",
      "2017-09-22 12:03:04,893 INFO [root] handler state transitioned to: HANDLER_POSTPROCESSED\n",
      "2017-09-22 12:03:04,894 INFO [root] handler state transitioned to: HANDLER_NOTIFIED_SUCCESS\n",
      "2017-09-22 12:03:04,896 INFO [root] handler result for input_file 'test_aodncore/testdata/good.nc': SUCCESS\n",
      "2017-09-22 12:03:04,896 INFO [root] handler state transitioned to: HANDLER_COMPLETED_SUCCESS\n"
     ]
    },
    {
     "name": "stdout",
     "output_type": "stream",
     "text": [
      "\n",
      "FILE COLLECTION\n",
      "PipelineFileCollection([PipelineFile({'publish_type': 'HARVEST_UPLOAD', 'should_harvest': 'True', 'is_deleted': 'False', 'check_type': 'NC_COMPLIANCE_CHECK', 'should_archive': 'False', 'is_archived': 'False', 'src_path': '/tmp/MinimalHandlerPv6J81/collection/good.nc', 'file_checksum': 'becebcc87ee937b6a51074de4869e844a4eb657505b94cac381639cf9d3a4622', 'should_delete': 'False', 'should_upload': 'True', 'dest_path': 'IMOS/here/will/do/good.nc', 'is_checked': 'True', 'is_uploaded': 'True', 'check_passed': 'True', 'is_harvested': 'True', 'is_deletion': 'False', 'name': 'good.nc'})])\n",
      "\n",
      "PIPELINE CONFIG\n",
      "{u'global': {u'admin_recipients': u'unittest:dummy',\n",
      "             u'error_dir': u'/tmp/probably/doesnt/exist/error',\n",
      "             u'upload_uri': 'file:///tmp/temp_upload_uriyvILv0',\n",
      "             u'wip_dir': 'test_aodncore'},\n",
      " u'logging': {u'level': u'INFO',\n",
      "              u'log_root': '/tmp/temp_log_rootIx4F0X',\n",
      "              u'pipeline_format': u'%(asctime)s %(levelname)s %(name)s[%(celery_task_id)s] %(message)s',\n",
      "              u'watchservice_format': u'%(asctime)s %(levelname)s [%(name)s] %(message)s'},\n",
      " u'mail': {u'from': u'info@aodn.org.au',\n",
      "           u'smtp_pass': u'SECRET_KEY',\n",
      "           u'smtp_server': '3257edda-c8e5-455f-814a-40f5bb9523c9',\n",
      "           u'smtp_user': u'ACCESS_KEY',\n",
      "           u'subject': u'aodn-pipeline unit testing'},\n",
      " u'pluggable': {u'dest_path_function_group': u'pipeline.dest_path_functions',\n",
      "                u'handlers_group': u'pipeline.handlers'},\n",
      " u'talend': {u'talend_log_dir': u'/tmp/probs/doesnt/exist/process'},\n",
      " u'watch': {u'incoming_dir': u'/tmp/probably/doesnt/exist/incoming',\n",
      "            u'logger_name': u'watchservice',\n",
      "            u'task_namespace': u'tasks'}}\n",
      "\n",
      "TRIGGER CONFIG\n",
      "{u'my_test_harvester': {u'events': [{u'regex': [u'.*']}],\n",
      "                        u'exec': u'echo --context_param paramFile=\"/usr/local/talend/jobs/param_file.conf\" --context_param base=%{base} --context_param fileList=%{file_list} --context_param logDir=%{log_dir}'}}\n",
      "\n",
      "WATCH CONFIG\n",
      "{u'ANMN_QLD_XXXX': {u'handler': u'DummyHandler',\n",
      "                    u'params': {u'check_params': {u'checks': [u'cf']},\n",
      "                                u'include_regexes': [u'.*'],\n",
      "                                u'notify_list': [u'4.XXXX']},\n",
      "                    u'path': [u'ANMN/QLD/XXXX']}}\n",
      "\n",
      "LOGGING CONFIG\n",
      "{'filters': {},\n",
      " 'formatters': {'pipeline_formatter': {'format': u'%(asctime)s %(levelname)s %(name)s[%(celery_task_id)s] %(message)s'},\n",
      "                'watchservice_formatter': {'format': u'%(asctime)s %(levelname)s [%(name)s] %(message)s'}},\n",
      " 'handlers': {'tasks.ANMN_QLD_XXXX_handler': {'class': 'logging.FileHandler',\n",
      "                                              'filename': '/tmp/temp_log_rootIx4F0X/tasks.ANMN_QLD_XXXX.log',\n",
      "                                              'formatter': 'pipeline_formatter',\n",
      "                                              'level': u'INFO'},\n",
      "              'watchservice_handler': {'class': 'logging.StreamHandler',\n",
      "                                       'formatter': 'watchservice_formatter',\n",
      "                                       'level': u'INFO'}},\n",
      " 'loggers': {'botocore': {'level': 'WARN'},\n",
      "             'paramiko': {'level': 'WARN'},\n",
      "             's3transfer': {'level': 'WARN'},\n",
      "             'tasks.ANMN_QLD_XXXX': {'handlers': ['tasks.ANMN_QLD_XXXX_handler'],\n",
      "                                     'level': u'INFO',\n",
      "                                     'propagate': False},\n",
      "             'transitions': {'level': 'WARN'},\n",
      "             'watchservice': {'handlers': ['watchservice_handler'],\n",
      "                              'level': u'INFO',\n",
      "                              'propagate': False}},\n",
      " 'version': 1}\n",
      "\n"
     ]
    }
   ],
   "source": [
    "import os\n",
    "import pprint\n",
    "import tempfile\n",
    "\n",
    "from aodncore.pipeline import HandlerBase\n",
    "from aodncore.testlib import get_test_config\n",
    "\n",
    "CONFIG = get_test_config(tempfile.gettempdir())\n",
    "\n",
    "# demo inputs\n",
    "input_file = 'test_aodncore/testdata/good.nc'  # NC file will be resolved as a single file by resolve step\n",
    "check_params = {'checks': ['cf']}  # check parameters are passed to the compliance checker library\n",
    "\n",
    "\n",
    "# This demonstrates how the base class essentially implements the whole \"generic handler\",\n",
    "# so simply adding a dest_path method will make a minimal working handler\n",
    "class MinimalHandler(HandlerBase):\n",
    "    @staticmethod\n",
    "    def dest_path(src_path):\n",
    "        return 'IMOS/here/will/do/{}'.format(os.path.basename(src_path))\n",
    "\n",
    "\n",
    "# create the instance\n",
    "handler_instance = MinimalHandler(input_file, config=CONFIG, check_params=check_params)\n",
    "\n",
    "# run the instance\n",
    "handler_instance.run()\n",
    "\n",
    "\n",
    "# we can inspect the handler instance during or after execution to see the state of\n",
    "pp = pprint.PrettyPrinter(width=70)\n",
    "interesting_attributes = {\n",
    "    'collection': pp.pformat(handler_instance.file_collection),\n",
    "    'pipeline_config': pp.pformat(handler_instance._config.pipeline_config),\n",
    "    'trigger_config': pp.pformat(handler_instance._config.trigger_config),\n",
    "    'watch_config': pp.pformat(handler_instance._config.watch_config),\n",
    "    'logging_config': pp.pformat(handler_instance._config.logging_config),\n",
    "    \n",
    "}\n",
    "\n",
    "print(\"\"\"\n",
    "FILE COLLECTION\n",
    "{collection}\n",
    "\n",
    "PIPELINE CONFIG\n",
    "{pipeline_config}\n",
    "\n",
    "TRIGGER CONFIG\n",
    "{trigger_config}\n",
    "\n",
    "WATCH CONFIG\n",
    "{watch_config}\n",
    "\n",
    "LOGGING CONFIG\n",
    "{logging_config}\n",
    "\"\"\".format(**interesting_attributes))\n"
   ]
  },
  {
   "cell_type": "code",
   "execution_count": 1,
   "metadata": {},
   "outputs": [
    {
     "name": "stderr",
     "output_type": "stream",
     "text": [
      "2017-09-22 13:17:50,563 WARNING [root] no logger parameter or celery task found, falling back to root logger\n"
     ]
    },
    {
     "name": "stderr",
     "output_type": "stream",
     "text": [
      "2017-09-22 13:17:50,566 INFO [root] running handler -> 'PluggableDestPathHandler({'notify_list': 'None', 'harvest_type': 'talend', 'temp_dir': '/tmp/PluggableDestPathHandlerNd1udV/temp', 'collection_dir': '/tmp/PluggableDestPathHandlerNd1udV/collection', 'dest_path_function': '<function dest_path_test at 0x7fcdb03ac2a8>', 'products_dir': '/tmp/PluggableDestPathHandlerNd1udV/products', 'input_file': 'test_aodncore/testdata/good.zip', 'notify_on_success': 'False', 'file_checksum': 'None', 'file_collection': 'PipelineFileCollection([])', 'check_params': '{}', 'notify_on_error': 'False', 'allowed_extensions': 'None', 'result': 'HandlerResult.UNKNOWN', 'harvest_params': 'None', 'error': 'None', 'relative_path_root': 'None', 'handler_start_time': '2017-09-22 13:17:50.565504', 'exclude_regexes': 'None', 'include_regexes': 'None'})'\n"
     ]
    },
    {
     "name": "stderr",
     "output_type": "stream",
     "text": [
      "2017-09-22 13:17:50,644 INFO [root] _set_dest_path_function -> '__main__.dest_path_test'\n"
     ]
    },
    {
     "name": "stderr",
     "output_type": "stream",
     "text": [
      "2017-09-22 13:17:50,645 INFO [root] handler state transitioned to: HANDLER_INITIALISED\n"
     ]
    },
    {
     "name": "stderr",
     "output_type": "stream",
     "text": [
      "2017-09-22 13:17:50,649 INFO [root] get_resolve_runner -> 'ZipFileResolveRunner'\n"
     ]
    },
    {
     "name": "stderr",
     "output_type": "stream",
     "text": [
      "2017-09-22 13:17:50,790 INFO [root] file: 'good.nc' updated: {'publish_type': 'HARVEST_UPLOAD'}\n"
     ]
    },
    {
     "name": "stderr",
     "output_type": "stream",
     "text": [
      "2017-09-22 13:17:50,791 INFO [root] handler state transitioned to: HANDLER_RESOLVED\n"
     ]
    },
    {
     "name": "stderr",
     "output_type": "stream",
     "text": [
      "2017-09-22 13:17:50,792 INFO [root] `preprocess` not overridden by child class, skipping step\n"
     ]
    },
    {
     "name": "stderr",
     "output_type": "stream",
     "text": [
      "2017-09-22 13:17:50,793 INFO [root] handler state transitioned to: HANDLER_PREPROCESSED\n"
     ]
    },
    {
     "name": "stderr",
     "output_type": "stream",
     "text": [
      "2017-09-22 13:17:50,794 INFO [root] get_check_runner -> 'CheckRunnerAdapter'\n"
     ]
    },
    {
     "name": "stderr",
     "output_type": "stream",
     "text": [
      "2017-09-22 13:17:50,795 INFO [root] file: 'good.nc' updated: {'check_type': 'FORMAT_CHECK'}\n"
     ]
    },
    {
     "name": "stderr",
     "output_type": "stream",
     "text": [
      "2017-09-22 13:17:50,796 INFO [root] get_child_check_runner -> 'FormatCheckRunner'\n"
     ]
    },
    {
     "name": "stderr",
     "output_type": "stream",
     "text": [
      "2017-09-22 13:17:50,797 INFO [root] checking that '/tmp/PluggableDestPathHandlerNd1udV/collection/good.nc' is a valid NetCDF file\n"
     ]
    },
    {
     "name": "stderr",
     "output_type": "stream",
     "text": [
      "2017-09-22 13:17:50,818 INFO [root] file: 'good.nc' updated: ['is_checked', 'cc_errors', 'cc_compliant', 'cc_log']\n"
     ]
    },
    {
     "name": "stderr",
     "output_type": "stream",
     "text": [
      "2017-09-22 13:17:50,820 INFO [root] handler state transitioned to: HANDLER_CHECKED\n"
     ]
    },
    {
     "name": "stderr",
     "output_type": "stream",
     "text": [
      "2017-09-22 13:17:50,821 INFO [root] `process` not overridden by child class, skipping step\n"
     ]
    },
    {
     "name": "stderr",
     "output_type": "stream",
     "text": [
      "2017-09-22 13:17:50,822 INFO [root] handler state transitioned to: HANDLER_PROCESSED\n"
     ]
    },
    {
     "name": "stderr",
     "output_type": "stream",
     "text": [
      "2017-09-22 13:17:50,823 INFO [root] get_upload_runner -> 'FileUploadRunner'\n"
     ]
    },
    {
     "name": "stderr",
     "output_type": "stream",
     "text": [
      "2017-09-22 13:17:50,824 INFO [root] file: 'good.nc' updated: {'dest_path': 'IMOS/here/will/do/good.nc'}\n"
     ]
    },
    {
     "name": "stderr",
     "output_type": "stream",
     "text": [
      "2017-09-22 13:17:50,824 INFO [root] get_harvester_runner -> 'TalendHarvesterRunner'\n"
     ]
    },
    {
     "name": "stderr",
     "output_type": "stream",
     "text": [
      "2017-09-22 13:17:50,825 INFO [root] Dividing files into slices of 2048 files\n"
     ]
    },
    {
     "name": "stderr",
     "output_type": "stream",
     "text": [
      "2017-09-22 13:17:50,827 INFO [root] All files in slice mapped correctly to a harvester\n"
     ]
    },
    {
     "name": "stderr",
     "output_type": "stream",
     "text": [
      "2017-09-22 13:17:50,828 INFO [root] Adding file with destination path: IMOS/here/will/do/good.nc\n"
     ]
    },
    {
     "name": "stderr",
     "output_type": "stream",
     "text": [
      "2017-09-22 13:17:50,829 INFO [root] Files to process: \n"
     ]
    },
    {
     "name": "stderr",
     "output_type": "stream",
     "text": [
      "2017-09-22 13:17:50,830 INFO [root] ['IMOS/here/will/do/good.nc']\n"
     ]
    },
    {
     "name": "stderr",
     "output_type": "stream",
     "text": [
      "2017-09-22 13:17:50,831 INFO [root] Executing echo --context_param paramFile=\"/usr/local/talend/jobs/param_file.conf\" --context_param base=/tmp/PluggableDestPathHandlerNd1udV/temp/talend_basePdgXuh --context_param fileList=/tmp/PluggableDestPathHandlerNd1udV/temp/talend_basePdgXuh/file_listMDQCE8.txt --context_param logDir=/tmp/probs/doesnt/exist/process\n"
     ]
    },
    {
     "name": "stderr",
     "output_type": "stream",
     "text": [
      "2017-09-22 13:17:50,832 INFO [root] --- START TALEND OUTPUT ---\n"
     ]
    },
    {
     "name": "stderr",
     "output_type": "stream",
     "text": [
      "--context_param paramFile=/usr/local/talend/jobs/param_file.conf --context_param base=/tmp/PluggableDestPathHandlerNd1udV/temp/talend_basePdgXuh --context_param fileList=/tmp/PluggableDestPathHandlerNd1udV/temp/talend_basePdgXuh/file_listMDQCE8.txt --context_param logDir=/tmp/probs/doesnt/exist/process\n\n"
     ]
    },
    {
     "name": "stderr",
     "output_type": "stream",
     "text": [
      "--- END TALEND OUTPUT ---\n"
     ]
    },
    {
     "name": "stderr",
     "output_type": "stream",
     "text": [
      "2017-09-22 13:17:50,849 INFO [root] file: 'good.nc' updated: {'is_harvested': True}\n"
     ]
    },
    {
     "name": "stderr",
     "output_type": "stream",
     "text": [
      "2017-09-22 13:17:50,851 INFO [root] uploading '/tmp/PluggableDestPathHandlerNd1udV/collection/good.nc' to 'file:///tmp/temp_upload_uriwef9AR/IMOS/here/will/do/good.nc'\n"
     ]
    },
    {
     "name": "stderr",
     "output_type": "stream",
     "text": [
      "2017-09-22 13:17:50,874 INFO [root] file: 'good.nc' updated: {'is_uploaded': True}\n"
     ]
    },
    {
     "name": "stderr",
     "output_type": "stream",
     "text": [
      "2017-09-22 13:17:50,879 INFO [root] handler state transitioned to: HANDLER_PUBLISHED\n"
     ]
    },
    {
     "name": "stderr",
     "output_type": "stream",
     "text": [
      "2017-09-22 13:17:50,884 INFO [root] `postprocess` not overridden by child class, skipping step\n"
     ]
    },
    {
     "name": "stderr",
     "output_type": "stream",
     "text": [
      "2017-09-22 13:17:50,890 INFO [root] handler state transitioned to: HANDLER_POSTPROCESSED\n"
     ]
    },
    {
     "name": "stderr",
     "output_type": "stream",
     "text": [
      "2017-09-22 13:17:50,893 INFO [root] handler state transitioned to: HANDLER_NOTIFIED_SUCCESS\n"
     ]
    },
    {
     "name": "stderr",
     "output_type": "stream",
     "text": [
      "2017-09-22 13:17:50,896 INFO [root] handler result for input_file 'test_aodncore/testdata/good.zip': SUCCESS\n"
     ]
    },
    {
     "name": "stderr",
     "output_type": "stream",
     "text": [
      "2017-09-22 13:17:50,902 INFO [root] handler state transitioned to: HANDLER_COMPLETED_SUCCESS\n"
     ]
    }
   ],
   "source": [
    "import os\n",
    "import tempfile\n",
    "\n",
    "from aodncore.pipeline import HandlerBase\n",
    "from aodncore.testlib import get_test_config\n",
    "\n",
    "CONFIG = get_test_config(tempfile.gettempdir())\n",
    "\n",
    "# demo inputs\n",
    "input_file = 'test_aodncore/testdata/good.zip'  # zip file will trigger a different file 'resolver'\n",
    "check_params = {}  # no compliance checking, which will cause a fallback to format validation only\n",
    "\n",
    "\n",
    "def dest_path_test(src_path):\n",
    "    return 'IMOS/here/will/do/{}'.format(os.path.basename(src_path))\n",
    "\n",
    "\n",
    "# since the dest_path function is provided as a parameter, it is no longer necessary to define it in the class\n",
    "class PluggableDestPathHandler(HandlerBase):\n",
    "    pass\n",
    "\n",
    "\n",
    "# create the instance\n",
    "handler_instance = PluggableDestPathHandler(input_file, config=CONFIG, check_params=check_params, dest_path_function=dest_path_test)\n",
    "\n",
    "# run the instance\n",
    "handler_instance.run()\n",
    "\n"
   ]
  },
  {
   "cell_type": "code",
   "execution_count": null,
   "metadata": {
    "collapsed": true
   },
   "outputs": [],
   "source": []
  }
 ],
 "metadata": {
  "kernelspec": {
   "display_name": "Python 2",
   "language": "python",
   "name": "python2"
  },
  "language_info": {
   "codemirror_mode": {
    "name": "ipython",
    "version": 2
   },
   "file_extension": ".py",
   "mimetype": "text/x-python",
   "name": "python",
   "nbconvert_exporter": "python",
   "pygments_lexer": "ipython2",
   "version": "2.7.13"
  }
 },
 "nbformat": 4,
 "nbformat_minor": 2
}